{
  "cells": [
    {
      "cell_type": "markdown",
      "metadata": {
        "id": "view-in-github",
        "colab_type": "text"
      },
      "source": [
        "<a href=\"https://colab.research.google.com/github/GTD2101-ACD-AB-EJ23/01-Python-basico-20170810/blob/main/01.%20AritmeticaYVariables.ipynb\" target=\"_parent\"><img src=\"https://colab.research.google.com/assets/colab-badge.svg\" alt=\"Open In Colab\"/></a>"
      ]
    },
    {
      "cell_type": "markdown",
      "metadata": {
        "id": "Vwud9U6ZpkFC"
      },
      "source": [
        "# Aritmética y Variables\n",
        "\n",
        "En este JNB se revisará el tema de Aritmética y Variables"
      ]
    },
    {
      "cell_type": "code",
      "execution_count": 1,
      "metadata": {
        "id": "O8NoTzxjs2wK",
        "outputId": "60b75bd9-34b6-4065-fe56-2662a4728528",
        "colab": {
          "base_uri": "https://localhost:8080/"
        }
      },
      "outputs": [
        {
          "output_type": "stream",
          "name": "stdout",
          "text": [
            "Hello World!\n"
          ]
        }
      ],
      "source": [
        "print(\"Hello World!\")"
      ]
    },
    {
      "cell_type": "markdown",
      "source": [
        "Si queremos imprimir un texto con varias líneas podemos usar triples comillas:"
      ],
      "metadata": {
        "id": "l7Xy9ImtpqtW"
      }
    },
    {
      "cell_type": "code",
      "source": [
        "texto = '''Hola este es un texto\n",
        "que tiene varias líneas.\n",
        "Python es poderoso'''\n",
        "print(texto)"
      ],
      "metadata": {
        "id": "FA51WhTyqDpM",
        "outputId": "6f21516a-d748-4ef8-ce61-379522dc3a27",
        "colab": {
          "base_uri": "https://localhost:8080/"
        }
      },
      "execution_count": 2,
      "outputs": [
        {
          "output_type": "stream",
          "name": "stdout",
          "text": [
            "Hola este es un texto\n",
            "que tiene varias líneas.\n",
            "Python es poderoso\n"
          ]
        }
      ]
    },
    {
      "cell_type": "markdown",
      "source": [
        "Imprimiendo comillas dentro de comillas."
      ],
      "metadata": {
        "id": "EN__YW9mqMwP"
      }
    },
    {
      "cell_type": "code",
      "source": [
        "print(\"John O'Brien\")\n",
        "print('El curso está \"difícil\"')"
      ],
      "metadata": {
        "id": "_5fRa4qbqPAb",
        "outputId": "0347429d-6f51-4358-c3b9-c1145959dc5d",
        "colab": {
          "base_uri": "https://localhost:8080/"
        }
      },
      "execution_count": 3,
      "outputs": [
        {
          "output_type": "stream",
          "name": "stdout",
          "text": [
            "John O'Brien\n",
            "El curso está \"difícil\"\n"
          ]
        }
      ]
    },
    {
      "cell_type": "markdown",
      "source": [
        "###Comentarios en python"
      ],
      "metadata": {
        "id": "lCp5H1K-qT5s"
      }
    },
    {
      "cell_type": "markdown",
      "source": [
        "Para colocar comentarios en Python usar el símbolo #."
      ],
      "metadata": {
        "id": "m2kpjOfjq0cJ"
      }
    },
    {
      "cell_type": "code",
      "source": [
        "\"\"\" La siguiente instrucción imprime un texto utilizando f-string.\n",
        "otra línea\n",
        "linea 3 \"\"\"\n",
        "nombre = \"John\"\n",
        "apellido = \"O'Brien\"\n",
        "print(f\"El curso está \\\"difícil\\\"\")\n",
        "print(f\"El curso está \\\"difícil\\\", mi nombre es {nombre} {apellido}\")"
      ],
      "metadata": {
        "id": "mZBYQu0Nq1S1",
        "outputId": "9f6ac296-7668-4784-9aac-088f4beea7f3",
        "colab": {
          "base_uri": "https://localhost:8080/"
        }
      },
      "execution_count": 6,
      "outputs": [
        {
          "output_type": "stream",
          "name": "stdout",
          "text": [
            "El curso está \"difícil\"\n",
            "El curso está \"difícil\", mi nombre es John O'Brien\n"
          ]
        }
      ]
    },
    {
      "cell_type": "markdown",
      "source": [
        "###Variables"
      ],
      "metadata": {
        "id": "Mn49xH0Gq5nJ"
      }
    },
    {
      "cell_type": "code",
      "source": [
        "anios = 20\n",
        "nombre = \"John Wick\"\n",
        "contador = 5 * 6\n",
        "print(type(anios))\n",
        "print(type(nombre))"
      ],
      "metadata": {
        "id": "SrgLqllNq8DK",
        "outputId": "9f62a84f-70da-4bca-b665-b24f48951fad",
        "colab": {
          "base_uri": "https://localhost:8080/"
        }
      },
      "execution_count": 7,
      "outputs": [
        {
          "output_type": "stream",
          "name": "stdout",
          "text": [
            "<class 'int'>\n",
            "<class 'str'>\n"
          ]
        }
      ]
    }
  ],
  "metadata": {
    "colab": {
      "provenance": [],
      "include_colab_link": true
    },
    "kernelspec": {
      "display_name": "Python 3.10.7 64-bit",
      "language": "python",
      "name": "python3"
    },
    "language_info": {
      "codemirror_mode": {
        "name": "ipython",
        "version": 3
      },
      "file_extension": ".py",
      "mimetype": "text/x-python",
      "name": "python",
      "nbconvert_exporter": "python",
      "pygments_lexer": "ipython3",
      "version": "3.10.7"
    },
    "orig_nbformat": 4,
    "vscode": {
      "interpreter": {
        "hash": "eb4a0ac80907d7f44e1a5e88d3d3381b33e3dbedd3a24d113e876f30a0c46bee"
      }
    }
  },
  "nbformat": 4,
  "nbformat_minor": 0
}