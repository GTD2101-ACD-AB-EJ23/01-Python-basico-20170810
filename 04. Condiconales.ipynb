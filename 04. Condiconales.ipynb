{
  "cells": [
    {
      "cell_type": "markdown",
      "metadata": {
        "id": "view-in-github",
        "colab_type": "text"
      },
      "source": [
        "<a href=\"https://colab.research.google.com/github/GTD2101-ACD-AB-EJ23/01-Python-basico-20170810/blob/main/04.%20Condiconales.ipynb\" target=\"_parent\"><img src=\"https://colab.research.google.com/assets/colab-badge.svg\" alt=\"Open In Colab\"/></a>"
      ]
    },
    {
      "cell_type": "markdown",
      "metadata": {
        "id": "iUppruHqvCD7"
      },
      "source": [
        "# Condiciones y Estatutos Condicionales\n",
        "\n",
        "En este JNB se revisará el tema de Condiciones y Estatutos Condicionales"
      ]
    },
    {
      "cell_type": "markdown",
      "source": [
        "###Sentencia If"
      ],
      "metadata": {
        "id": "QF61qpoivEH0"
      }
    },
    {
      "cell_type": "code",
      "source": [
        "#El siguiente ejemplo determina la etapa de la persona\n",
        "edad = int(input(\"Ingrese su edad: \"))\n",
        "if edad >= 100:\n",
        "    print(\"Usted es un centenario\")\n",
        "elif edad >= 65:\n",
        "    print(\"Usted es un adulto mayor\")\n",
        "elif edad >= 18:\n",
        "    print(\"Usted es un adulto\")\n",
        "elif edad >= 12:\n",
        "    print(\"Usted es un adolescente\")\n",
        "elif edad >= 3:\n",
        "    print(\"Usted es un niño\")\n",
        "else:\n",
        "    print(\"Usted es un bebé\")\n",
        "\n",
        "#print(f\"La persona tiene {edad} años y es un {etapa}\")"
      ],
      "metadata": {
        "id": "m6a5YlT0vGyb",
        "outputId": "ae5725b4-1d71-4677-c24f-cd142dfbfa81",
        "colab": {
          "base_uri": "https://localhost:8080/"
        }
      },
      "execution_count": 1,
      "outputs": [
        {
          "output_type": "stream",
          "name": "stdout",
          "text": [
            "Ingrese su edad: 2\n",
            "Usted es un bebé\n"
          ]
        }
      ]
    }
  ],
  "metadata": {
    "colab": {
      "provenance": [],
      "include_colab_link": true
    },
    "kernelspec": {
      "display_name": "Python 3.10.7 64-bit",
      "language": "python",
      "name": "python3"
    },
    "language_info": {
      "codemirror_mode": {
        "name": "ipython",
        "version": 3
      },
      "file_extension": ".py",
      "mimetype": "text/x-python",
      "name": "python",
      "nbconvert_exporter": "python",
      "pygments_lexer": "ipython3",
      "version": "3.10.7"
    },
    "orig_nbformat": 4,
    "vscode": {
      "interpreter": {
        "hash": "eb4a0ac80907d7f44e1a5e88d3d3381b33e3dbedd3a24d113e876f30a0c46bee"
      }
    }
  },
  "nbformat": 4,
  "nbformat_minor": 0
}