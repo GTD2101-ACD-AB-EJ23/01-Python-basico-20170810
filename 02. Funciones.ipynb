{
  "cells": [
    {
      "cell_type": "markdown",
      "metadata": {
        "id": "view-in-github",
        "colab_type": "text"
      },
      "source": [
        "<a href=\"https://colab.research.google.com/github/GTD2101-ACD-AB-EJ23/01-Python-basico-20170810/blob/main/02.%20Funciones.ipynb\" target=\"_parent\"><img src=\"https://colab.research.google.com/assets/colab-badge.svg\" alt=\"Open In Colab\"/></a>"
      ]
    },
    {
      "cell_type": "markdown",
      "metadata": {
        "id": "bsFxRZO-sWok"
      },
      "source": [
        "# Funciones\n",
        "\n",
        "En este JNB se revisará el tema de Funciones"
      ]
    },
    {
      "cell_type": "markdown",
      "source": [
        "###Función que calcula el cuadrado de un número."
      ],
      "metadata": {
        "id": "_MwgxdxGsdEK"
      }
    },
    {
      "cell_type": "code",
      "source": [
        "def cuadrado(numero):\n",
        "    print(f\"Estamos calculando el cudrado de {numero}\")\n",
        "    return numero ** 2"
      ],
      "metadata": {
        "id": "cwxRjRPgsgW4"
      },
      "execution_count": 1,
      "outputs": []
    },
    {
      "cell_type": "code",
      "source": [
        "cuadrado_de_5 = cuadrado(5)\n",
        "print(cuadrado_de_5)"
      ],
      "metadata": {
        "id": "6Jb4S2M_sryK",
        "outputId": "b62d804e-b444-4f61-9ff3-cf0d6925e7e8",
        "colab": {
          "base_uri": "https://localhost:8080/"
        }
      },
      "execution_count": 3,
      "outputs": [
        {
          "output_type": "stream",
          "name": "stdout",
          "text": [
            "Estamos calculando el cudrado de 5\n",
            "25\n"
          ]
        }
      ]
    },
    {
      "cell_type": "markdown",
      "source": [
        "###Una función más compleja."
      ],
      "metadata": {
        "id": "r_Uf9N_Jswpk"
      }
    },
    {
      "cell_type": "code",
      "source": [
        "def get_pay(num_hours):\n",
        "    # Pre-tax pay, based on receiving $15/hour\n",
        "    pay_pretax = num_hours * 15\n",
        "    # After-tax pay, based on being in 12% tax bracket\n",
        "    pay_aftertax = pay_pretax * (1 - .12)\n",
        "    return pay_aftertax"
      ],
      "metadata": {
        "id": "OZr6xgU-s2-u"
      },
      "execution_count": 4,
      "outputs": []
    },
    {
      "cell_type": "code",
      "source": [
        "horas_trabajadas = int(input(\"Dime tus horas trabajadas: \"))\n",
        "pago_total = get_pay(horas_trabajadas)\n",
        "print(f\"Tu pago total es de {pago_total}\")"
      ],
      "metadata": {
        "id": "Zzbr9cQFs85m",
        "outputId": "881017a5-a6ea-4b0a-f3af-5fce5ab8a1bf",
        "colab": {
          "base_uri": "https://localhost:8080/"
        }
      },
      "execution_count": 5,
      "outputs": [
        {
          "output_type": "stream",
          "name": "stdout",
          "text": [
            "Dime tus horas trabajadas: 10\n",
            "Tu pago total es de 132.0\n"
          ]
        }
      ]
    },
    {
      "cell_type": "code",
      "source": [
        "def pi():\n",
        "    return 3.141592653589793"
      ],
      "metadata": {
        "id": "a4y9F_4ftIO2"
      },
      "execution_count": 6,
      "outputs": []
    },
    {
      "cell_type": "code",
      "source": [
        "radio = 10\n",
        "area = pi() * radio ** 2\n",
        "print(area)"
      ],
      "metadata": {
        "id": "uKI8v-fhtLOF",
        "outputId": "09c8fc82-db79-4d40-ca06-d9b7fbaf411f",
        "colab": {
          "base_uri": "https://localhost:8080/"
        }
      },
      "execution_count": 7,
      "outputs": [
        {
          "output_type": "stream",
          "name": "stdout",
          "text": [
            "314.1592653589793\n"
          ]
        }
      ]
    }
  ],
  "metadata": {
    "colab": {
      "provenance": [],
      "include_colab_link": true
    },
    "kernelspec": {
      "display_name": "Python 3.10.7 64-bit",
      "language": "python",
      "name": "python3"
    },
    "language_info": {
      "codemirror_mode": {
        "name": "ipython",
        "version": 3
      },
      "file_extension": ".py",
      "mimetype": "text/x-python",
      "name": "python",
      "nbconvert_exporter": "python",
      "pygments_lexer": "ipython3",
      "version": "3.10.7"
    },
    "orig_nbformat": 4,
    "vscode": {
      "interpreter": {
        "hash": "eb4a0ac80907d7f44e1a5e88d3d3381b33e3dbedd3a24d113e876f30a0c46bee"
      }
    }
  },
  "nbformat": 4,
  "nbformat_minor": 0
}