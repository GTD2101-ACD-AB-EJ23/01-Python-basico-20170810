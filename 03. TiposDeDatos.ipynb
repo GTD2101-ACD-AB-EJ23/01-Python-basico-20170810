{
  "cells": [
    {
      "cell_type": "markdown",
      "metadata": {
        "id": "view-in-github",
        "colab_type": "text"
      },
      "source": [
        "<a href=\"https://colab.research.google.com/github/GTD2101-ACD-AB-EJ23/01-Python-basico-20170810/blob/main/03.%20TiposDeDatos.ipynb\" target=\"_parent\"><img src=\"https://colab.research.google.com/assets/colab-badge.svg\" alt=\"Open In Colab\"/></a>"
      ]
    },
    {
      "cell_type": "markdown",
      "metadata": {
        "id": "-0ZiCXKLt6qK"
      },
      "source": [
        "# Tipos de Datos\n",
        "\n",
        "En este JNB se revisará el tema de Tipos de Datos"
      ]
    },
    {
      "cell_type": "code",
      "execution_count": null,
      "metadata": {
        "id": "O8NoTzxjs2wK",
        "outputId": "fa4bc249-a4fa-48a6-9dc6-7733646ed223"
      },
      "outputs": [
        {
          "name": "stdout",
          "output_type": "stream",
          "text": [
            "Hello World!\n"
          ]
        }
      ],
      "source": [
        "print(\"Hello World!\")"
      ]
    },
    {
      "cell_type": "markdown",
      "source": [
        "###Enteros"
      ],
      "metadata": {
        "id": "pnx-UHPkuFBT"
      }
    },
    {
      "cell_type": "code",
      "source": [
        "valor = 45\n",
        "print(valor)\n",
        "print(type(valor))"
      ],
      "metadata": {
        "id": "I6yyRp_xuJoQ"
      },
      "execution_count": null,
      "outputs": []
    },
    {
      "cell_type": "markdown",
      "source": [
        "###Reales"
      ],
      "metadata": {
        "id": "Gi7wBOAruNMz"
      }
    },
    {
      "cell_type": "code",
      "source": [
        "var_real = 20/2\n",
        "print(var_real)\n",
        "print(type(var_real))"
      ],
      "metadata": {
        "id": "VHvNQalIuRlk"
      },
      "execution_count": null,
      "outputs": []
    },
    {
      "cell_type": "markdown",
      "source": [
        "###Boolean"
      ],
      "metadata": {
        "id": "9Sd8jMJQuXRl"
      }
    },
    {
      "cell_type": "code",
      "source": [
        "resultado = True\n",
        "var_bool = (5 == 5)"
      ],
      "metadata": {
        "id": "CDeHNxNkuaHq"
      },
      "execution_count": null,
      "outputs": []
    },
    {
      "cell_type": "code",
      "source": [
        "print(resultado)\n",
        "print(var_bool) "
      ],
      "metadata": {
        "id": "1cI-lcT9ucX1"
      },
      "execution_count": null,
      "outputs": []
    },
    {
      "cell_type": "markdown",
      "source": [
        "###Strings\n",
        "Sumando strings\n",
        "\n",
        "print(\"Hola \" + \"mundo\")\n",
        "\n",
        "f-strings"
      ],
      "metadata": {
        "id": "Kag0cu7luljH"
      }
    },
    {
      "cell_type": "code",
      "source": [
        "t1 = \"Hola\"\n",
        "t2 = \"mundo\"\n",
        "print(f\"Texto: {t1} {t2}\")"
      ],
      "metadata": {
        "id": "cKHqaokmutjO"
      },
      "execution_count": null,
      "outputs": []
    },
    {
      "cell_type": "code",
      "source": [
        "nombre = input(\"Dame tu nombre: \")\n",
        "print(nombre)\n",
        "largo = len(nombre)\n",
        "print(\"#\"*largo)"
      ],
      "metadata": {
        "id": "byCg9DFyuwEw"
      },
      "execution_count": null,
      "outputs": []
    }
  ],
  "metadata": {
    "colab": {
      "provenance": [],
      "include_colab_link": true
    },
    "kernelspec": {
      "display_name": "Python 3.10.7 64-bit",
      "language": "python",
      "name": "python3"
    },
    "language_info": {
      "codemirror_mode": {
        "name": "ipython",
        "version": 3
      },
      "file_extension": ".py",
      "mimetype": "text/x-python",
      "name": "python",
      "nbconvert_exporter": "python",
      "pygments_lexer": "ipython3",
      "version": "3.10.7"
    },
    "orig_nbformat": 4,
    "vscode": {
      "interpreter": {
        "hash": "eb4a0ac80907d7f44e1a5e88d3d3381b33e3dbedd3a24d113e876f30a0c46bee"
      }
    }
  },
  "nbformat": 4,
  "nbformat_minor": 0
}